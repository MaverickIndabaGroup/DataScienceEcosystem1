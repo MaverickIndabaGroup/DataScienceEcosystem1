{
 "cells": [
  {
   "cell_type": "markdown",
   "id": "02b07725",
   "metadata": {},
   "source": [
    "Data Science Tools and Ecosystem"
   ]
  },
  {
   "cell_type": "markdown",
   "id": "6ca2264e",
   "metadata": {},
   "source": [
    "In this notebook, Data Science Tools and Ecosystem are summarized"
   ]
  },
  {
   "cell_type": "markdown",
   "id": "999a041d",
   "metadata": {},
   "source": [
    "Some of the popular languages that Data Science use are: \n",
    "   1. Python\n",
    "   2. R\n",
    "   3. SQL\n",
    "   4. Java\n",
    "   5. Scala"
   ]
  },
  {
   "cell_type": "markdown",
   "id": "5ee49a61",
   "metadata": {},
   "source": [
    "Some of the commonly used libraries used by Data Scientists include: \n",
    "\n",
    "    1. TensorFlow\n",
    "    2. NumPy\n",
    "    3. SciPy\n",
    "    4. Keras\n",
    "    5. PyTorch\n",
    "    6. Matplotlab"
   ]
  },
  {
   "cell_type": "markdown",
   "id": "8441a7af",
   "metadata": {},
   "source": [
    "### Data Science Tools\n",
    "\n",
    "| SAS | Apache Hadoop | R |\n",
    "| --- | --- | --- |\n",
    "| Tableau | Python | PowerBi |\n"
   ]
  },
  {
   "cell_type": "markdown",
   "id": "d3538ea5",
   "metadata": {},
   "source": [
    "Below are a few examples of evaluating arithmetic expressions in Python "
   ]
  },
  {
   "cell_type": "markdown",
   "id": "34c29118",
   "metadata": {},
   "source": [
    "This is a simple arithmetic expression to multiply then add integers"
   ]
  },
  {
   "cell_type": "code",
   "execution_count": 20,
   "id": "6c1fe715",
   "metadata": {},
   "outputs": [
    {
     "data": {
      "text/plain": [
       "17"
      ]
     },
     "execution_count": 20,
     "metadata": {},
     "output_type": "execute_result"
    }
   ],
   "source": [
    "(3*4)+5"
   ]
  },
  {
   "cell_type": "markdown",
   "id": "6ff926df",
   "metadata": {},
   "source": [
    "This will convert 200 minutes into hours by dividing by 60"
   ]
  },
  {
   "cell_type": "code",
   "execution_count": 22,
   "id": "6e4c0e13",
   "metadata": {},
   "outputs": [
    {
     "data": {
      "text/plain": [
       "3.3333333333333335"
      ]
     },
     "execution_count": 22,
     "metadata": {},
     "output_type": "execute_result"
    }
   ],
   "source": [
    "200/60 "
   ]
  },
  {
   "cell_type": "markdown",
   "id": "ff154b54",
   "metadata": {},
   "source": [
    "**Objectives** \n",
    "\n",
    "Introduction to Jupyter Notebook R Studio and GitHub\n",
    "\n",
    "- Jupyter Notebooks is a browser based applications that allow data scientists to create and share documents that contain code\n",
    "\n",
    "- R Studio is a statistical programming language used in data analysis and machine learning but is moselt used by academics healthcare and the government\n",
    "\n",
    "- GitHub is popular among developers and data scientists for performing version control of source code for files and projects"
   ]
  },
  {
   "cell_type": "markdown",
   "id": "32653e2d",
   "metadata": {},
   "source": [
    "### Author\n",
    "Levar Lamar Smith"
   ]
  },
  {
   "cell_type": "code",
   "execution_count": null,
   "id": "c945439f",
   "metadata": {},
   "outputs": [],
   "source": []
  }
 ],
 "metadata": {
  "kernelspec": {
   "display_name": "Python 3 (ipykernel)",
   "language": "python",
   "name": "python3"
  },
  "language_info": {
   "codemirror_mode": {
    "name": "ipython",
    "version": 3
   },
   "file_extension": ".py",
   "mimetype": "text/x-python",
   "name": "python",
   "nbconvert_exporter": "python",
   "pygments_lexer": "ipython3",
   "version": "3.8.2"
  }
 },
 "nbformat": 4,
 "nbformat_minor": 5
}
